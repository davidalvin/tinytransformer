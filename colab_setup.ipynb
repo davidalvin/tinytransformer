# ------------------- tinytransformer end‑to‑end Colab setup -------------------

# 0. Ensure we're in a clean starting point (e.g., /content)
%cd /content

# 1. Clone the repo (no-op if already exists)
!git clone https://github.com/davidalvin/tinytransformer.git || true
%cd tinytransformer

# 2. Install dependencies
!pip install -q -r requirements.txt

# 3. Set up PYTHONPATH for this notebook and all subprocesses
import sys, os, pathlib

SRC_PATH = pathlib.Path.cwd() / "src"
if str(SRC_PATH) not in sys.path:
    sys.path.insert(0, str(SRC_PATH))

os.environ["PYTHONPATH"] = str(SRC_PATH)
print(f"🧼 PYTHONPATH: {os.environ['PYTHONPATH']}")
print(f"🧼 sys.path: {sys.path}")

# 4. Build dataset (downloads, tokenizes, encodes)
print("\n🛠 Building dataset ...")
!python -m tinytransformer.data.build_dataset

# 5. Train model
print("\n🧠 Training model ...")
!python -m tinytransformer.main

# 6. Confirm output artefacts
import tinytransformer.config.config as cfg

print("\n✅ Files created:")
for p in [
    cfg.TXT_PATH,
    cfg.TOKENIZER_PATH,
    cfg.TOKENS_PATH,
    cfg.MODEL_PATH,
]:
    print("  ", p, "→", "exists" if pathlib.Path(p).exists() else "missing")
